{
 "cells": [
  {
   "cell_type": "markdown",
   "metadata": {},
   "source": [
    "## Import"
   ]
  },
  {
   "cell_type": "code",
   "execution_count": 7,
   "metadata": {},
   "outputs": [],
   "source": [
    "from flask import Flask\n",
    "from flask import render_template\n",
    "from flask import request\n",
    "\n",
    "import requests\n",
    "import json\n",
    "import os"
   ]
  },
  {
   "cell_type": "markdown",
   "metadata": {},
   "source": [
    "## Flask 선언"
   ]
  },
  {
   "cell_type": "code",
   "execution_count": 8,
   "metadata": {},
   "outputs": [
    {
     "name": "stdout",
     "output_type": "stream",
     "text": [
      " * Serving Flask app \"__main__\" (lazy loading)\n",
      " * Environment: production\n",
      "\u001b[31m   WARNING: This is a development server. Do not use it in a production deployment.\u001b[0m\n",
      "\u001b[2m   Use a production WSGI server instead.\u001b[0m\n",
      " * Debug mode: off\n"
     ]
    },
    {
     "name": "stderr",
     "output_type": "stream",
     "text": [
      " * Running on http://127.0.0.1:5001/ (Press CTRL+C to quit)\n",
      "127.0.0.1 - - [15/Jun/2024 13:52:13] \"GET / HTTP/1.1\" 200 -\n"
     ]
    },
    {
     "name": "stdout",
     "output_type": "stream",
     "text": [
      "7b51a6e1a86e202000fa1fb0a275f655d30042624cce6c688db63fc44d6398e1\n"
     ]
    },
    {
     "name": "stderr",
     "output_type": "stream",
     "text": [
      "[2024-06-15 13:53:02,515] ERROR in app: Exception on / [POST]\n",
      "Traceback (most recent call last):\n",
      "  File \"c:\\Users\\user\\anaconda3\\lib\\site-packages\\flask\\app.py\", line 2447, in wsgi_app\n",
      "    response = self.full_dispatch_request()\n",
      "  File \"c:\\Users\\user\\anaconda3\\lib\\site-packages\\flask\\app.py\", line 1952, in full_dispatch_request\n",
      "    rv = self.handle_user_exception(e)\n",
      "  File \"c:\\Users\\user\\anaconda3\\lib\\site-packages\\flask\\app.py\", line 1821, in handle_user_exception\n",
      "    reraise(exc_type, exc_value, tb)\n",
      "  File \"c:\\Users\\user\\anaconda3\\lib\\site-packages\\flask\\_compat.py\", line 39, in reraise\n",
      "    raise value\n",
      "  File \"c:\\Users\\user\\anaconda3\\lib\\site-packages\\flask\\app.py\", line 1950, in full_dispatch_request\n",
      "    rv = self.dispatch_request()\n",
      "  File \"c:\\Users\\user\\anaconda3\\lib\\site-packages\\flask\\app.py\", line 1936, in dispatch_request\n",
      "    return self.view_functions[rule.endpoint](**req.view_args)\n",
      "  File \"C:\\Users\\user\\AppData\\Local\\Temp\\ipykernel_41956\\3571654869.py\", line 24, in login\n",
      "    nft_name = _tx['smart_contract']['contract_code'].split(\"'\")[3],\n",
      "KeyError: 'contract_code'\n",
      "127.0.0.1 - - [15/Jun/2024 13:53:02] \"POST / HTTP/1.1\" 500 -\n"
     ]
    }
   ],
   "source": [
    "app = Flask(__name__, template_folder=os.getcwd())\n",
    "\n",
    "@app.route('/', methods=['GET', 'POST'])\n",
    "def login():\n",
    "    if request.method=='POST':\n",
    "        \n",
    "        contract_address = request.form.to_dict(flat=False)['smart_contract_addr'][0] \n",
    "        print(contract_address)\n",
    "        # 블록 정보 호출\n",
    "        headers = {'Content-Type' : 'application/json; charset=utf-8'}\n",
    "        res = requests.get(\"http://localhost:5000/chain\", headers=headers)\n",
    "        res_json = json.loads(res.content)\n",
    "        nft_TF = False\n",
    "        ## 스마트 컨트랙트를 호출 및 실행\n",
    "        for _block in res_json['chain']:\n",
    "            for _tx in _block['transactions']:\n",
    "                if _tx['smart_contract']['contract_address'] == contract_address:\n",
    "                    exec( _tx['smart_contract']['contract_code']) \n",
    "                    nft_TF = True\n",
    "                    break\n",
    "        if nft_TF:\n",
    "            #print(myNFT)\n",
    "            return render_template(\"NFT_Wallet.html\",  \n",
    "                                   nft_name = _tx['smart_contract']['contract_code'].split(\"'\")[3], \n",
    "                                   nft_img_url = _tx['smart_contract']['contract_code'].split(\"'\")[7],\n",
    "                                   nft_addresss = contract_address\n",
    "                                   )\n",
    "        else:\n",
    "            return \"잘못된 지갑주소입니다.\"\n",
    "\n",
    "        \n",
    "    return render_template('NFT_login.html')\n",
    "app.run(port=5001)"
   ]
  }
 ],
 "metadata": {
  "kernelspec": {
   "display_name": "base",
   "language": "python",
   "name": "python3"
  },
  "language_info": {
   "codemirror_mode": {
    "name": "ipython",
    "version": 3
   },
   "file_extension": ".py",
   "mimetype": "text/x-python",
   "name": "python",
   "nbconvert_exporter": "python",
   "pygments_lexer": "ipython3",
   "version": "3.9.13"
  }
 },
 "nbformat": 4,
 "nbformat_minor": 2
}
