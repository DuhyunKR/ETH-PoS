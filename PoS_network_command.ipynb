{
 "cells": [
  {
   "cell_type": "markdown",
   "metadata": {},
   "source": [
    "## 노드 운영"
   ]
  },
  {
   "cell_type": "code",
   "execution_count": 83,
   "metadata": {},
   "outputs": [],
   "source": [
    "import requests\n",
    "import json\n",
    "import pandas as pd\n",
    "import hashlib\n",
    "import random\n"
   ]
  },
  {
   "cell_type": "markdown",
   "metadata": {},
   "source": [
    "## 노드 조회"
   ]
  },
  {
   "cell_type": "code",
   "execution_count": 84,
   "metadata": {},
   "outputs": [
    {
     "data": {
      "text/plain": [
       "{'chain': [{'hash': '9c31fa95ec5d0154020135c85198c4cbdb02c701150b1a028187c1ab6ee0a8c8',\n",
       "   'index': 1,\n",
       "   'previous_hash': 'genesis_block',\n",
       "   'timestamp': 1718298027.7442853,\n",
       "   'transactions': [],\n",
       "   'validator': 'DuHyeon_KR'}],\n",
       " 'length': 1}"
      ]
     },
     "execution_count": 84,
     "metadata": {},
     "output_type": "execute_result"
    }
   ],
   "source": [
    "#Net1 조회\n",
    "headers = {'Content-Type' : 'application/json; charset = utf-8'}\n",
    "res = requests.get(\"http://localhost:5000/chain\", headers=headers)\n",
    "json.loads(res.content)"
   ]
  },
  {
   "cell_type": "code",
   "execution_count": 85,
   "metadata": {},
   "outputs": [
    {
     "data": {
      "text/plain": [
       "{'chain': [{'hash': '3077b349eca29b7990a52256c3fc1e7ea57ffef6d40cf452433a5ca4c5ee3ac0',\n",
       "   'index': 1,\n",
       "   'previous_hash': 'genesis_block',\n",
       "   'timestamp': 1718298029.115116,\n",
       "   'transactions': [],\n",
       "   'validator': 'DuHyeon_USA'}],\n",
       " 'length': 1}"
      ]
     },
     "execution_count": 85,
     "metadata": {},
     "output_type": "execute_result"
    }
   ],
   "source": [
    "#Net2 조회\n",
    "headers = {'Content-Type' : 'application/json; charset = utf-8'}\n",
    "res = requests.get(\"http://localhost:5001/chain\", headers=headers)\n",
    "json.loads(res.content)"
   ]
  },
  {
   "cell_type": "code",
   "execution_count": 86,
   "metadata": {},
   "outputs": [
    {
     "data": {
      "text/plain": [
       "{'chain': [{'hash': '2f96ae5699d98b237a0fef0756fb3b846c56f0e3e3134a62d2231a95dae5ad6e',\n",
       "   'index': 1,\n",
       "   'previous_hash': 'genesis_block',\n",
       "   'timestamp': 1718298030.6831434,\n",
       "   'transactions': [],\n",
       "   'validator': 'DuHyeon_ENG'}],\n",
       " 'length': 1}"
      ]
     },
     "execution_count": 86,
     "metadata": {},
     "output_type": "execute_result"
    }
   ],
   "source": [
    "#Net3 조회\n",
    "headers = {'Content-Type' : 'application/json; charset = utf-8'}\n",
    "res = requests.get(\"http://localhost:5002/chain\", headers=headers)\n",
    "json.loads(res.content)"
   ]
  },
  {
   "cell_type": "markdown",
   "metadata": {},
   "source": [
    "## 노드 등록하기"
   ]
  },
  {
   "cell_type": "code",
   "execution_count": 87,
   "metadata": {},
   "outputs": [
    {
     "data": {
      "text/plain": [
       "b'{\"message\":\"New nodes have been added\",\"total_nodes\":[\"localhost:5001\"]}\\n'"
      ]
     },
     "execution_count": 87,
     "metadata": {},
     "output_type": "execute_result"
    }
   ],
   "source": [
    "#Net2노드 - > Net1 등록하기\n",
    "headers = {'Content-Type' : 'application/json; charset=utf-8'}\n",
    "data = {\n",
    "    \"nodes\": 'http://localhost:5001'\n",
    "}\n",
    "requests.post(\"http://localhost:5000/nodes/register\", headers=headers, data=json.dumps(data)).content"
   ]
  },
  {
   "cell_type": "code",
   "execution_count": 88,
   "metadata": {},
   "outputs": [
    {
     "data": {
      "text/plain": [
       "b'{\"message\":\"New nodes have been added\",\"total_nodes\":[\"localhost:5002\",\"localhost:5001\"]}\\n'"
      ]
     },
     "execution_count": 88,
     "metadata": {},
     "output_type": "execute_result"
    }
   ],
   "source": [
    "#Net3노드 -> Net 1 등록하기\n",
    "headers = {'Content-Type' : 'application/json; charset = utf-8'}\n",
    "data = {\n",
    "    \"nodes\": 'http://localhost:5002'\n",
    "}\n",
    "requests.post(\"http://localhost:5000/nodes/register\", headers=headers, data=json.dumps(data)).content"
   ]
  },
  {
   "cell_type": "markdown",
   "metadata": {},
   "source": [
    "## py ETH 송금 후 2번과 3번 네트워크에 데이터 공유"
   ]
  },
  {
   "cell_type": "code",
   "execution_count": 89,
   "metadata": {},
   "outputs": [
    {
     "data": {
      "text/plain": [
       "b'{\"message\":\"Transaction will be added to Block {2}\"}\\n'"
      ]
     },
     "execution_count": 89,
     "metadata": {},
     "output_type": "execute_result"
    }
   ],
   "source": [
    "headers = {'Content-Type' : 'application/json; charset=utf-8'}\n",
    "data = {\n",
    "    'sender' : \"test_from\",\n",
    "    'recipient': \"test_to\",\n",
    "    \"amount\" : 3,\n",
    "}\n",
    "requests.post(\"http://localhost:5000/transactions/new\", headers=headers, data=json.dumps(data)).content"
   ]
  },
  {
   "cell_type": "code",
   "execution_count": 90,
   "metadata": {},
   "outputs": [
    {
     "data": {
      "text/plain": [
       "{'chain': [{'hash': '9c31fa95ec5d0154020135c85198c4cbdb02c701150b1a028187c1ab6ee0a8c8',\n",
       "   'index': 1,\n",
       "   'previous_hash': 'genesis_block',\n",
       "   'timestamp': 1718298027.7442853,\n",
       "   'transactions': [],\n",
       "   'validator': 'DuHyeon_KR'}],\n",
       " 'length': 1}"
      ]
     },
     "execution_count": 90,
     "metadata": {},
     "output_type": "execute_result"
    }
   ],
   "source": [
    "#Net1 조회\n",
    "headers = {'Content-Type' : 'application/json; charset = utf-8'}\n",
    "res = requests.get(\"http://localhost:5000/chain\", headers=headers)\n",
    "json.loads(res.content)"
   ]
  },
  {
   "cell_type": "code",
   "execution_count": 91,
   "metadata": {},
   "outputs": [
    {
     "data": {
      "text/plain": [
       "{'chain': [{'hash': '3077b349eca29b7990a52256c3fc1e7ea57ffef6d40cf452433a5ca4c5ee3ac0',\n",
       "   'index': 1,\n",
       "   'previous_hash': 'genesis_block',\n",
       "   'timestamp': 1718298029.115116,\n",
       "   'transactions': [],\n",
       "   'validator': 'DuHyeon_USA'}],\n",
       " 'length': 1}"
      ]
     },
     "execution_count": 91,
     "metadata": {},
     "output_type": "execute_result"
    }
   ],
   "source": [
    "#Net2 조회\n",
    "headers = {'Content-Type' : 'application/json; charset = utf-8'}\n",
    "res = requests.get(\"http://localhost:5001/chain\", headers=headers)\n",
    "json.loads(res.content)"
   ]
  },
  {
   "cell_type": "code",
   "execution_count": 92,
   "metadata": {},
   "outputs": [
    {
     "data": {
      "text/plain": [
       "{'chain': [{'hash': '2f96ae5699d98b237a0fef0756fb3b846c56f0e3e3134a62d2231a95dae5ad6e',\n",
       "   'index': 1,\n",
       "   'previous_hash': 'genesis_block',\n",
       "   'timestamp': 1718298030.6831434,\n",
       "   'transactions': [],\n",
       "   'validator': 'DuHyeon_ENG'}],\n",
       " 'length': 1}"
      ]
     },
     "execution_count": 92,
     "metadata": {},
     "output_type": "execute_result"
    }
   ],
   "source": [
    "#Net3 조회\n",
    "headers = {'Content-Type' : 'application/json; charset = utf-8'}\n",
    "res = requests.get(\"http://localhost:5002/chain\", headers=headers)\n",
    "json.loads(res.content)"
   ]
  },
  {
   "cell_type": "markdown",
   "metadata": {},
   "source": [
    "## 채굴 명령"
   ]
  },
  {
   "cell_type": "code",
   "execution_count": 93,
   "metadata": {},
   "outputs": [
    {
     "name": "stdout",
     "output_type": "stream",
     "text": [
      "<Response [200]>\n"
     ]
    }
   ],
   "source": [
    "headers = {'Content-Type' : 'application/json; charset=utf-8'}\n",
    "res = requests.get(\"http://localhost:5000/mine\")\n",
    "print(res)"
   ]
  },
  {
   "cell_type": "markdown",
   "metadata": {},
   "source": [
    "## transaction2 값 30"
   ]
  },
  {
   "cell_type": "code",
   "execution_count": 94,
   "metadata": {},
   "outputs": [
    {
     "data": {
      "text/plain": [
       "b'{\"message\":\"Transaction will be added to Block {3}\"}\\n'"
      ]
     },
     "execution_count": 94,
     "metadata": {},
     "output_type": "execute_result"
    }
   ],
   "source": [
    "headers = {'Content-Type' : \"application/json; charset=utf-8\"}\n",
    "data = {\n",
    "    \"sender\" : \"test_from\",\n",
    "    \"recipient\": \"test_to02\",\n",
    "    \"amount\" : 30,\n",
    "}\n",
    "requests.post(\"http://localhost:5000/transactions/new\", headers=headers, data=json.dumps(data)).content"
   ]
  },
  {
   "cell_type": "markdown",
   "metadata": {},
   "source": [
    "## 채굴 2"
   ]
  },
  {
   "cell_type": "code",
   "execution_count": 95,
   "metadata": {},
   "outputs": [
    {
     "name": "stdout",
     "output_type": "stream",
     "text": [
      "<Response [200]>\n"
     ]
    }
   ],
   "source": [
    "headers = {'Content-Type' : 'application/json; charset=utf-8'}\n",
    "res = requests.get(\"http://localhost:5000/mine\")\n",
    "print(res)"
   ]
  },
  {
   "cell_type": "markdown",
   "metadata": {},
   "source": [
    "## transaction3 값 300"
   ]
  },
  {
   "cell_type": "code",
   "execution_count": 96,
   "metadata": {},
   "outputs": [
    {
     "data": {
      "text/plain": [
       "b'{\"message\":\"Transaction will be added to Block {4}\"}\\n'"
      ]
     },
     "execution_count": 96,
     "metadata": {},
     "output_type": "execute_result"
    }
   ],
   "source": [
    "headers = {'Content-Type' : \"application/json; charset=utf-8\"}\n",
    "data = {\n",
    "    \"sender\" : \"test_from\",\n",
    "    \"recipient\": \"test_to03\",\n",
    "    \"amount\" : 300,\n",
    "}\n",
    "requests.post(\"http://localhost:5000/transactions/new\", headers=headers, data=json.dumps(data)).content"
   ]
  },
  {
   "cell_type": "markdown",
   "metadata": {},
   "source": [
    "## 채굴 3"
   ]
  },
  {
   "cell_type": "code",
   "execution_count": 97,
   "metadata": {},
   "outputs": [
    {
     "name": "stdout",
     "output_type": "stream",
     "text": [
      "<Response [200]>\n"
     ]
    }
   ],
   "source": [
    "headers = {'Content-Type' : 'application/json; charset=utf-8'}\n",
    "res = requests.get(\"http://localhost:5000/mine\")\n",
    "print(res)"
   ]
  },
  {
   "cell_type": "markdown",
   "metadata": {},
   "source": [
    "## transaction4"
   ]
  },
  {
   "cell_type": "code",
   "execution_count": 98,
   "metadata": {},
   "outputs": [
    {
     "data": {
      "text/plain": [
       "b'{\"message\":\"Transaction will be added to Block {5}\"}\\n'"
      ]
     },
     "execution_count": 98,
     "metadata": {},
     "output_type": "execute_result"
    }
   ],
   "source": [
    "headers = {'Content-Type' : \"application/json; charset=utf-8\"}\n",
    "data = {\n",
    "    \"sender\" : \"test_from\",\n",
    "    \"recipient\": \"test_to04\",\n",
    "    \"amount\" : 300,\n",
    "}\n",
    "requests.post(\"http://localhost:5000/transactions/new\", headers=headers, data=json.dumps(data)).content"
   ]
  },
  {
   "cell_type": "markdown",
   "metadata": {},
   "source": [
    "## 채굴 4"
   ]
  },
  {
   "cell_type": "code",
   "execution_count": 99,
   "metadata": {},
   "outputs": [
    {
     "name": "stdout",
     "output_type": "stream",
     "text": [
      "<Response [200]>\n"
     ]
    }
   ],
   "source": [
    "headers = {'Content-Type' : 'application/json; charset=utf-8'}\n",
    "res = requests.get(\"http://localhost:5000/mine\")\n",
    "print(res)"
   ]
  },
  {
   "cell_type": "markdown",
   "metadata": {},
   "source": [
    "## transaction5"
   ]
  },
  {
   "cell_type": "code",
   "execution_count": 100,
   "metadata": {},
   "outputs": [
    {
     "data": {
      "text/plain": [
       "b'{\"message\":\"Transaction will be added to Block {6}\"}\\n'"
      ]
     },
     "execution_count": 100,
     "metadata": {},
     "output_type": "execute_result"
    }
   ],
   "source": [
    "headers = {'Content-Type' : \"application/json; charset=utf-8\"}\n",
    "data = {\n",
    "    \"sender\" : \"test_from\",\n",
    "    \"recipient\": \"test_to02\",\n",
    "    \"amount\" : 30,\n",
    "}\n",
    "requests.post(\"http://localhost:5000/transactions/new\", headers=headers, data=json.dumps(data)).content"
   ]
  },
  {
   "cell_type": "markdown",
   "metadata": {},
   "source": [
    "## 채굴 5"
   ]
  },
  {
   "cell_type": "code",
   "execution_count": 101,
   "metadata": {},
   "outputs": [
    {
     "name": "stdout",
     "output_type": "stream",
     "text": [
      "<Response [200]>\n"
     ]
    }
   ],
   "source": [
    "headers = {'Content-Type' : 'application/json; charset=utf-8'}\n",
    "res = requests.get(\"http://localhost:5000/mine\")\n",
    "print(res)"
   ]
  },
  {
   "cell_type": "markdown",
   "metadata": {},
   "source": [
    "## transaction 6"
   ]
  },
  {
   "cell_type": "code",
   "execution_count": 102,
   "metadata": {},
   "outputs": [
    {
     "data": {
      "text/plain": [
       "b'{\"message\":\"Transaction will be added to Block {7}\"}\\n'"
      ]
     },
     "execution_count": 102,
     "metadata": {},
     "output_type": "execute_result"
    }
   ],
   "source": [
    "headers = {'Content-Type' : \"application/json; charset=utf-8\"}\n",
    "data = {\n",
    "    \"sender\" : \"test_from\",\n",
    "    \"recipient\": \"test_to03\",\n",
    "    \"amount\" : 300,\n",
    "}\n",
    "requests.post(\"http://localhost:5000/transactions/new\", headers=headers, data=json.dumps(data)).content"
   ]
  },
  {
   "cell_type": "markdown",
   "metadata": {},
   "source": [
    "## 채굴 6"
   ]
  },
  {
   "cell_type": "code",
   "execution_count": 103,
   "metadata": {},
   "outputs": [
    {
     "name": "stdout",
     "output_type": "stream",
     "text": [
      "<Response [200]>\n"
     ]
    }
   ],
   "source": [
    "headers = {'Content-Type' : 'application/json; charset=utf-8'}\n",
    "res = requests.get(\"http://localhost:5000/mine\")\n",
    "print(res)"
   ]
  },
  {
   "cell_type": "markdown",
   "metadata": {},
   "source": [
    "## transaction 7"
   ]
  },
  {
   "cell_type": "code",
   "execution_count": 104,
   "metadata": {},
   "outputs": [
    {
     "data": {
      "text/plain": [
       "b'{\"message\":\"Transaction will be added to Block {8}\"}\\n'"
      ]
     },
     "execution_count": 104,
     "metadata": {},
     "output_type": "execute_result"
    }
   ],
   "source": [
    "headers = {'Content-Type' : \"application/json; charset=utf-8\"}\n",
    "data = {\n",
    "    \"sender\" : \"test_from\",\n",
    "    \"recipient\": \"test_to04\",\n",
    "    \"amount\" : 300,\n",
    "}\n",
    "requests.post(\"http://localhost:5000/transactions/new\", headers=headers, data=json.dumps(data)).content"
   ]
  },
  {
   "cell_type": "markdown",
   "metadata": {},
   "source": [
    "## 채굴 7"
   ]
  },
  {
   "cell_type": "code",
   "execution_count": 105,
   "metadata": {},
   "outputs": [
    {
     "name": "stdout",
     "output_type": "stream",
     "text": [
      "<Response [200]>\n"
     ]
    }
   ],
   "source": [
    "headers = {'Content-Type' : 'application/json; charset=utf-8'}\n",
    "res = requests.get(\"http://localhost:5000/mine\")\n",
    "print(res)"
   ]
  },
  {
   "cell_type": "markdown",
   "metadata": {},
   "source": [
    "## 노드의 채굴 결과 검증자로 선정된 횟수"
   ]
  },
  {
   "cell_type": "code",
   "execution_count": 106,
   "metadata": {},
   "outputs": [
    {
     "data": {
      "text/plain": [
       "{'chain': [{'hash': '9c31fa95ec5d0154020135c85198c4cbdb02c701150b1a028187c1ab6ee0a8c8',\n",
       "   'index': 1,\n",
       "   'previous_hash': 'genesis_block',\n",
       "   'timestamp': 1718298027.7442853,\n",
       "   'transactions': [],\n",
       "   'validator': 'DuHyeon_KR'},\n",
       "  {'hash': '58686138ba2e189b47f64880e245a8edfb49fc67c2ca4b678d93bfe16539f705',\n",
       "   'index': 2,\n",
       "   'previous_hash': '83e119b842fd5459e1d0a3b4108e484679debc3c54351093134b77e8d0602f72',\n",
       "   'timestamp': 1718298099.990303,\n",
       "   'transactions': [{'amount': 3,\n",
       "     'recipient': 'test_to',\n",
       "     'sender': 'test_from',\n",
       "     'smart_contract': 'empty',\n",
       "     'timestamp': 1718298065.1193533},\n",
       "    {'amount': 0.1,\n",
       "     'recipient': 'DuHyeon_ENG',\n",
       "     'sender': 'mining_profit',\n",
       "     'smart_contract': {'contract_address': 'mining_profit'},\n",
       "     'timestamp': 1718298099.990303}],\n",
       "   'validator': 'DuHyeon_ENG'},\n",
       "  {'hash': 'af7523f004a809243a50e8a6d54831bad370cd54bc74c4d98ba825b4ff3fd297',\n",
       "   'index': 3,\n",
       "   'previous_hash': '2168b134e3620bd8860cb9494d887828bef2022e86f8272920e8fc1a0bf3708f',\n",
       "   'timestamp': 1718298134.8239012,\n",
       "   'transactions': [{'amount': 30,\n",
       "     'recipient': 'test_to02',\n",
       "     'sender': 'test_from',\n",
       "     'smart_contract': 'empty',\n",
       "     'timestamp': 1718298106.1405532},\n",
       "    {'amount': 0.1,\n",
       "     'recipient': 'DuHyeon_ENG',\n",
       "     'sender': 'mining_profit',\n",
       "     'smart_contract': {'contract_address': 'mining_profit'},\n",
       "     'timestamp': 1718298134.8239012}],\n",
       "   'validator': 'DuHyeon_ENG'},\n",
       "  {'hash': '65cad98e0b6b897eb8975ef35c411d840d1646f4e11062e8804449516bf0831e',\n",
       "   'index': 4,\n",
       "   'previous_hash': 'f88de7c6ff867c2272eafe18c80b10fedeb42874a95e658e87a02af7b4f0f9a6',\n",
       "   'timestamp': 1718298169.6967452,\n",
       "   'transactions': [{'amount': 300,\n",
       "     'recipient': 'test_to03',\n",
       "     'sender': 'test_from',\n",
       "     'smart_contract': 'empty',\n",
       "     'timestamp': 1718298140.996561},\n",
       "    {'amount': 0.1,\n",
       "     'recipient': 'DuHyeon_KR',\n",
       "     'sender': 'mining_profit',\n",
       "     'smart_contract': {'contract_address': 'mining_profit'},\n",
       "     'timestamp': 1718298169.6967452}],\n",
       "   'validator': 'DuHyeon_KR'},\n",
       "  {'hash': 'c14d7eb8d4dd3ca94af325dfb789d346a8271984f8cb542cc729a2070c4f7ff8',\n",
       "   'index': 5,\n",
       "   'previous_hash': '0ef1584c73296eff9dd91bed914b4522019693f195ecd4d4faa19fdbaefc4107',\n",
       "   'timestamp': 1718298204.5433908,\n",
       "   'transactions': [{'amount': 300,\n",
       "     'recipient': 'test_to04',\n",
       "     'sender': 'test_from',\n",
       "     'smart_contract': 'empty',\n",
       "     'timestamp': 1718298175.8532999},\n",
       "    {'amount': 0.1,\n",
       "     'recipient': 'DuHyeon_ENG',\n",
       "     'sender': 'mining_profit',\n",
       "     'smart_contract': {'contract_address': 'mining_profit'},\n",
       "     'timestamp': 1718298204.5433908}],\n",
       "   'validator': 'DuHyeon_ENG'},\n",
       "  {'hash': '128b0a0f858eb5cca33b80b57f746123a06b2573e43d874daac8703ef4a1a380',\n",
       "   'index': 6,\n",
       "   'previous_hash': '16a82049bdd7036fe5776305429827d8b4d3eef1b3af9c6886d57c91e5541a9f',\n",
       "   'timestamp': 1718298239.4288359,\n",
       "   'transactions': [{'amount': 30,\n",
       "     'recipient': 'test_to02',\n",
       "     'sender': 'test_from',\n",
       "     'smart_contract': 'empty',\n",
       "     'timestamp': 1718298210.7014308},\n",
       "    {'amount': 0.1,\n",
       "     'recipient': 'DuHyeon_USA',\n",
       "     'sender': 'mining_profit',\n",
       "     'smart_contract': {'contract_address': 'mining_profit'},\n",
       "     'timestamp': 1718298239.4288359}],\n",
       "   'validator': 'DuHyeon_USA'},\n",
       "  {'hash': 'fe86d05f73cba4c145966554029610729a7052228049f06719e1ff14b1bc0f84',\n",
       "   'index': 7,\n",
       "   'previous_hash': 'bf949d90fd6352672b0803e08890148fdaa68388a8859684a4c96e609732b183',\n",
       "   'timestamp': 1718298274.2764244,\n",
       "   'transactions': [{'amount': 300,\n",
       "     'recipient': 'test_to03',\n",
       "     'sender': 'test_from',\n",
       "     'smart_contract': 'empty',\n",
       "     'timestamp': 1718298245.5773785},\n",
       "    {'amount': 0.1,\n",
       "     'recipient': 'DuHyeon_ENG',\n",
       "     'sender': 'mining_profit',\n",
       "     'smart_contract': {'contract_address': 'mining_profit'},\n",
       "     'timestamp': 1718298274.2764244}],\n",
       "   'validator': 'DuHyeon_ENG'},\n",
       "  {'hash': '3f93a0e4b547cd6f1850961e0ae9bdbc2e0dc678f539bb343a238a59288a50aa',\n",
       "   'index': 8,\n",
       "   'previous_hash': '55306ffcceced8aa05064cfed6d3a6839084cef2783903eeae3221ae03754a4a',\n",
       "   'timestamp': 1718298309.0923963,\n",
       "   'transactions': [{'amount': 300,\n",
       "     'recipient': 'test_to04',\n",
       "     'sender': 'test_from',\n",
       "     'smart_contract': 'empty',\n",
       "     'timestamp': 1718298280.398805},\n",
       "    {'amount': 0.1,\n",
       "     'recipient': 'DuHyeon_KR',\n",
       "     'sender': 'mining_profit',\n",
       "     'smart_contract': {'contract_address': 'mining_profit'},\n",
       "     'timestamp': 1718298309.0923963}],\n",
       "   'validator': 'DuHyeon_KR'}],\n",
       " 'length': 8}"
      ]
     },
     "execution_count": 106,
     "metadata": {},
     "output_type": "execute_result"
    }
   ],
   "source": [
    "# 노드의 블록정보 확인\n",
    "headers = {'Content-Type' : 'application/json; charset=utf-8'}\n",
    "res = requests.get(\"http://localhost:5000/chain\", headers=headers)\n",
    "final_result = json.loads(res.content)\n",
    "final_result\n"
   ]
  },
  {
   "cell_type": "code",
   "execution_count": 107,
   "metadata": {},
   "outputs": [],
   "source": [
    "#거래내역 취합\n",
    "\n",
    "status_json = json.loads(res.text)\n",
    "status_json['chain']    \n",
    "tx_amount_l = []\n",
    "tx_sender_l = []\n",
    "tx_reciv_l  = []\n",
    "tx_time_l   = []\n",
    "validator_l = []\n",
    "\n",
    "for chain_index in range(len(status_json['chain'])):\n",
    "    chain_tx = status_json['chain'][chain_index]['transactions']\n",
    "    for each_tx in range(len(chain_tx)):\n",
    "        tx_amount_l.append(chain_tx[each_tx]['amount'])\n",
    "        tx_sender_l.append(chain_tx[each_tx]['sender'])\n",
    "        tx_reciv_l.append(chain_tx[each_tx]['recipient'])\n",
    "        tx_time_l.append(chain_tx[each_tx]['timestamp'])\n",
    "        \n",
    "        validator_l.append(status_json['chain'][chain_index]['validator'])\n"
   ]
  },
  {
   "cell_type": "code",
   "execution_count": 108,
   "metadata": {},
   "outputs": [
    {
     "data": {
      "text/html": [
       "<div>\n",
       "<style scoped>\n",
       "    .dataframe tbody tr th:only-of-type {\n",
       "        vertical-align: middle;\n",
       "    }\n",
       "\n",
       "    .dataframe tbody tr th {\n",
       "        vertical-align: top;\n",
       "    }\n",
       "\n",
       "    .dataframe thead th {\n",
       "        text-align: right;\n",
       "    }\n",
       "</style>\n",
       "<table border=\"1\" class=\"dataframe\">\n",
       "  <thead>\n",
       "    <tr style=\"text-align: right;\">\n",
       "      <th></th>\n",
       "      <th>timestamp</th>\n",
       "      <th>validator</th>\n",
       "      <th>sender</th>\n",
       "      <th>recipient</th>\n",
       "      <th>amount</th>\n",
       "    </tr>\n",
       "  </thead>\n",
       "  <tbody>\n",
       "    <tr>\n",
       "      <th>0</th>\n",
       "      <td>1.718298e+09</td>\n",
       "      <td>DuHyeon_ENG</td>\n",
       "      <td>test_from</td>\n",
       "      <td>test_to</td>\n",
       "      <td>3.0</td>\n",
       "    </tr>\n",
       "    <tr>\n",
       "      <th>1</th>\n",
       "      <td>1.718298e+09</td>\n",
       "      <td>DuHyeon_ENG</td>\n",
       "      <td>mining_profit</td>\n",
       "      <td>DuHyeon_ENG</td>\n",
       "      <td>0.1</td>\n",
       "    </tr>\n",
       "    <tr>\n",
       "      <th>2</th>\n",
       "      <td>1.718298e+09</td>\n",
       "      <td>DuHyeon_ENG</td>\n",
       "      <td>test_from</td>\n",
       "      <td>test_to02</td>\n",
       "      <td>30.0</td>\n",
       "    </tr>\n",
       "    <tr>\n",
       "      <th>3</th>\n",
       "      <td>1.718298e+09</td>\n",
       "      <td>DuHyeon_ENG</td>\n",
       "      <td>mining_profit</td>\n",
       "      <td>DuHyeon_ENG</td>\n",
       "      <td>0.1</td>\n",
       "    </tr>\n",
       "    <tr>\n",
       "      <th>4</th>\n",
       "      <td>1.718298e+09</td>\n",
       "      <td>DuHyeon_KR</td>\n",
       "      <td>test_from</td>\n",
       "      <td>test_to03</td>\n",
       "      <td>300.0</td>\n",
       "    </tr>\n",
       "    <tr>\n",
       "      <th>5</th>\n",
       "      <td>1.718298e+09</td>\n",
       "      <td>DuHyeon_KR</td>\n",
       "      <td>mining_profit</td>\n",
       "      <td>DuHyeon_KR</td>\n",
       "      <td>0.1</td>\n",
       "    </tr>\n",
       "    <tr>\n",
       "      <th>6</th>\n",
       "      <td>1.718298e+09</td>\n",
       "      <td>DuHyeon_ENG</td>\n",
       "      <td>test_from</td>\n",
       "      <td>test_to04</td>\n",
       "      <td>300.0</td>\n",
       "    </tr>\n",
       "    <tr>\n",
       "      <th>7</th>\n",
       "      <td>1.718298e+09</td>\n",
       "      <td>DuHyeon_ENG</td>\n",
       "      <td>mining_profit</td>\n",
       "      <td>DuHyeon_ENG</td>\n",
       "      <td>0.1</td>\n",
       "    </tr>\n",
       "    <tr>\n",
       "      <th>8</th>\n",
       "      <td>1.718298e+09</td>\n",
       "      <td>DuHyeon_USA</td>\n",
       "      <td>test_from</td>\n",
       "      <td>test_to02</td>\n",
       "      <td>30.0</td>\n",
       "    </tr>\n",
       "    <tr>\n",
       "      <th>9</th>\n",
       "      <td>1.718298e+09</td>\n",
       "      <td>DuHyeon_USA</td>\n",
       "      <td>mining_profit</td>\n",
       "      <td>DuHyeon_USA</td>\n",
       "      <td>0.1</td>\n",
       "    </tr>\n",
       "    <tr>\n",
       "      <th>10</th>\n",
       "      <td>1.718298e+09</td>\n",
       "      <td>DuHyeon_ENG</td>\n",
       "      <td>test_from</td>\n",
       "      <td>test_to03</td>\n",
       "      <td>300.0</td>\n",
       "    </tr>\n",
       "    <tr>\n",
       "      <th>11</th>\n",
       "      <td>1.718298e+09</td>\n",
       "      <td>DuHyeon_ENG</td>\n",
       "      <td>mining_profit</td>\n",
       "      <td>DuHyeon_ENG</td>\n",
       "      <td>0.1</td>\n",
       "    </tr>\n",
       "    <tr>\n",
       "      <th>12</th>\n",
       "      <td>1.718298e+09</td>\n",
       "      <td>DuHyeon_KR</td>\n",
       "      <td>test_from</td>\n",
       "      <td>test_to04</td>\n",
       "      <td>300.0</td>\n",
       "    </tr>\n",
       "    <tr>\n",
       "      <th>13</th>\n",
       "      <td>1.718298e+09</td>\n",
       "      <td>DuHyeon_KR</td>\n",
       "      <td>mining_profit</td>\n",
       "      <td>DuHyeon_KR</td>\n",
       "      <td>0.1</td>\n",
       "    </tr>\n",
       "  </tbody>\n",
       "</table>\n",
       "</div>"
      ],
      "text/plain": [
       "       timestamp    validator         sender    recipient  amount\n",
       "0   1.718298e+09  DuHyeon_ENG      test_from      test_to     3.0\n",
       "1   1.718298e+09  DuHyeon_ENG  mining_profit  DuHyeon_ENG     0.1\n",
       "2   1.718298e+09  DuHyeon_ENG      test_from    test_to02    30.0\n",
       "3   1.718298e+09  DuHyeon_ENG  mining_profit  DuHyeon_ENG     0.1\n",
       "4   1.718298e+09   DuHyeon_KR      test_from    test_to03   300.0\n",
       "5   1.718298e+09   DuHyeon_KR  mining_profit   DuHyeon_KR     0.1\n",
       "6   1.718298e+09  DuHyeon_ENG      test_from    test_to04   300.0\n",
       "7   1.718298e+09  DuHyeon_ENG  mining_profit  DuHyeon_ENG     0.1\n",
       "8   1.718298e+09  DuHyeon_USA      test_from    test_to02    30.0\n",
       "9   1.718298e+09  DuHyeon_USA  mining_profit  DuHyeon_USA     0.1\n",
       "10  1.718298e+09  DuHyeon_ENG      test_from    test_to03   300.0\n",
       "11  1.718298e+09  DuHyeon_ENG  mining_profit  DuHyeon_ENG     0.1\n",
       "12  1.718298e+09   DuHyeon_KR      test_from    test_to04   300.0\n",
       "13  1.718298e+09   DuHyeon_KR  mining_profit   DuHyeon_KR     0.1"
      ]
     },
     "execution_count": 108,
     "metadata": {},
     "output_type": "execute_result"
    }
   ],
   "source": [
    "\n",
    "df_tx = pd.DataFrame()\n",
    "df_tx['timestamp'] = tx_time_l  \n",
    "df_tx['validator'] = validator_l\n",
    "df_tx['sender'] = tx_sender_l \n",
    "df_tx['recipient'] = tx_reciv_l\n",
    "df_tx['amount'] = tx_amount_l   \n",
    "df_tx"
   ]
  },
  {
   "cell_type": "code",
   "execution_count": 109,
   "metadata": {},
   "outputs": [
    {
     "data": {
      "text/plain": [
       "validator\n",
       "DuHyeon_ENG    8\n",
       "DuHyeon_KR     4\n",
       "DuHyeon_USA    2\n",
       "Name: timestamp, dtype: int64"
      ]
     },
     "execution_count": 109,
     "metadata": {},
     "output_type": "execute_result"
    }
   ],
   "source": [
    "#최종결론\n",
    "df_tx.groupby('validator')['timestamp'].count()"
   ]
  },
  {
   "cell_type": "markdown",
   "metadata": {},
   "source": [
    "## Smart Contract Transaction"
   ]
  },
  {
   "cell_type": "code",
   "execution_count": 110,
   "metadata": {},
   "outputs": [
    {
     "ename": "JSONDecodeError",
     "evalue": "Expecting value: line 1 column 1 (char 0)",
     "output_type": "error",
     "traceback": [
      "\u001b[1;31m---------------------------------------------------------------------------\u001b[0m",
      "\u001b[1;31mJSONDecodeError\u001b[0m                           Traceback (most recent call last)",
      "\u001b[1;32m~\\AppData\\Local\\Temp\\ipykernel_3560\\3859321339.py\u001b[0m in \u001b[0;36m<module>\u001b[1;34m\u001b[0m\n\u001b[0;32m      7\u001b[0m }\n\u001b[0;32m      8\u001b[0m \u001b[0mresult\u001b[0m \u001b[1;33m=\u001b[0m \u001b[0mrequests\u001b[0m\u001b[1;33m.\u001b[0m\u001b[0mpost\u001b[0m\u001b[1;33m(\u001b[0m\u001b[1;34m\"http://localhost:5000/transactinos/new\"\u001b[0m\u001b[1;33m,\u001b[0m \u001b[0mheaders\u001b[0m\u001b[1;33m=\u001b[0m\u001b[0mheaders\u001b[0m\u001b[1;33m,\u001b[0m \u001b[0mdata\u001b[0m\u001b[1;33m=\u001b[0m\u001b[0mjson\u001b[0m\u001b[1;33m.\u001b[0m\u001b[0mdumps\u001b[0m\u001b[1;33m(\u001b[0m\u001b[0mdata\u001b[0m\u001b[1;33m)\u001b[0m\u001b[1;33m)\u001b[0m\u001b[1;33m.\u001b[0m\u001b[0mcontent\u001b[0m\u001b[1;33m\u001b[0m\u001b[1;33m\u001b[0m\u001b[0m\n\u001b[1;32m----> 9\u001b[1;33m \u001b[0mjson\u001b[0m\u001b[1;33m.\u001b[0m\u001b[0mloads\u001b[0m\u001b[1;33m(\u001b[0m\u001b[0mresult\u001b[0m\u001b[1;33m)\u001b[0m\u001b[1;33m\u001b[0m\u001b[1;33m\u001b[0m\u001b[0m\n\u001b[0m",
      "\u001b[1;32mc:\\Users\\user\\anaconda3\\lib\\json\\__init__.py\u001b[0m in \u001b[0;36mloads\u001b[1;34m(s, cls, object_hook, parse_float, parse_int, parse_constant, object_pairs_hook, **kw)\u001b[0m\n\u001b[0;32m    344\u001b[0m             \u001b[0mparse_int\u001b[0m \u001b[1;32mis\u001b[0m \u001b[1;32mNone\u001b[0m \u001b[1;32mand\u001b[0m \u001b[0mparse_float\u001b[0m \u001b[1;32mis\u001b[0m \u001b[1;32mNone\u001b[0m \u001b[1;32mand\u001b[0m\u001b[1;33m\u001b[0m\u001b[1;33m\u001b[0m\u001b[0m\n\u001b[0;32m    345\u001b[0m             parse_constant is None and object_pairs_hook is None and not kw):\n\u001b[1;32m--> 346\u001b[1;33m         \u001b[1;32mreturn\u001b[0m \u001b[0m_default_decoder\u001b[0m\u001b[1;33m.\u001b[0m\u001b[0mdecode\u001b[0m\u001b[1;33m(\u001b[0m\u001b[0ms\u001b[0m\u001b[1;33m)\u001b[0m\u001b[1;33m\u001b[0m\u001b[1;33m\u001b[0m\u001b[0m\n\u001b[0m\u001b[0;32m    347\u001b[0m     \u001b[1;32mif\u001b[0m \u001b[0mcls\u001b[0m \u001b[1;32mis\u001b[0m \u001b[1;32mNone\u001b[0m\u001b[1;33m:\u001b[0m\u001b[1;33m\u001b[0m\u001b[1;33m\u001b[0m\u001b[0m\n\u001b[0;32m    348\u001b[0m         \u001b[0mcls\u001b[0m \u001b[1;33m=\u001b[0m \u001b[0mJSONDecoder\u001b[0m\u001b[1;33m\u001b[0m\u001b[1;33m\u001b[0m\u001b[0m\n",
      "\u001b[1;32mc:\\Users\\user\\anaconda3\\lib\\json\\decoder.py\u001b[0m in \u001b[0;36mdecode\u001b[1;34m(self, s, _w)\u001b[0m\n\u001b[0;32m    335\u001b[0m \u001b[1;33m\u001b[0m\u001b[0m\n\u001b[0;32m    336\u001b[0m         \"\"\"\n\u001b[1;32m--> 337\u001b[1;33m         \u001b[0mobj\u001b[0m\u001b[1;33m,\u001b[0m \u001b[0mend\u001b[0m \u001b[1;33m=\u001b[0m \u001b[0mself\u001b[0m\u001b[1;33m.\u001b[0m\u001b[0mraw_decode\u001b[0m\u001b[1;33m(\u001b[0m\u001b[0ms\u001b[0m\u001b[1;33m,\u001b[0m \u001b[0midx\u001b[0m\u001b[1;33m=\u001b[0m\u001b[0m_w\u001b[0m\u001b[1;33m(\u001b[0m\u001b[0ms\u001b[0m\u001b[1;33m,\u001b[0m \u001b[1;36m0\u001b[0m\u001b[1;33m)\u001b[0m\u001b[1;33m.\u001b[0m\u001b[0mend\u001b[0m\u001b[1;33m(\u001b[0m\u001b[1;33m)\u001b[0m\u001b[1;33m)\u001b[0m\u001b[1;33m\u001b[0m\u001b[1;33m\u001b[0m\u001b[0m\n\u001b[0m\u001b[0;32m    338\u001b[0m         \u001b[0mend\u001b[0m \u001b[1;33m=\u001b[0m \u001b[0m_w\u001b[0m\u001b[1;33m(\u001b[0m\u001b[0ms\u001b[0m\u001b[1;33m,\u001b[0m \u001b[0mend\u001b[0m\u001b[1;33m)\u001b[0m\u001b[1;33m.\u001b[0m\u001b[0mend\u001b[0m\u001b[1;33m(\u001b[0m\u001b[1;33m)\u001b[0m\u001b[1;33m\u001b[0m\u001b[1;33m\u001b[0m\u001b[0m\n\u001b[0;32m    339\u001b[0m         \u001b[1;32mif\u001b[0m \u001b[0mend\u001b[0m \u001b[1;33m!=\u001b[0m \u001b[0mlen\u001b[0m\u001b[1;33m(\u001b[0m\u001b[0ms\u001b[0m\u001b[1;33m)\u001b[0m\u001b[1;33m:\u001b[0m\u001b[1;33m\u001b[0m\u001b[1;33m\u001b[0m\u001b[0m\n",
      "\u001b[1;32mc:\\Users\\user\\anaconda3\\lib\\json\\decoder.py\u001b[0m in \u001b[0;36mraw_decode\u001b[1;34m(self, s, idx)\u001b[0m\n\u001b[0;32m    353\u001b[0m             \u001b[0mobj\u001b[0m\u001b[1;33m,\u001b[0m \u001b[0mend\u001b[0m \u001b[1;33m=\u001b[0m \u001b[0mself\u001b[0m\u001b[1;33m.\u001b[0m\u001b[0mscan_once\u001b[0m\u001b[1;33m(\u001b[0m\u001b[0ms\u001b[0m\u001b[1;33m,\u001b[0m \u001b[0midx\u001b[0m\u001b[1;33m)\u001b[0m\u001b[1;33m\u001b[0m\u001b[1;33m\u001b[0m\u001b[0m\n\u001b[0;32m    354\u001b[0m         \u001b[1;32mexcept\u001b[0m \u001b[0mStopIteration\u001b[0m \u001b[1;32mas\u001b[0m \u001b[0merr\u001b[0m\u001b[1;33m:\u001b[0m\u001b[1;33m\u001b[0m\u001b[1;33m\u001b[0m\u001b[0m\n\u001b[1;32m--> 355\u001b[1;33m             \u001b[1;32mraise\u001b[0m \u001b[0mJSONDecodeError\u001b[0m\u001b[1;33m(\u001b[0m\u001b[1;34m\"Expecting value\"\u001b[0m\u001b[1;33m,\u001b[0m \u001b[0ms\u001b[0m\u001b[1;33m,\u001b[0m \u001b[0merr\u001b[0m\u001b[1;33m.\u001b[0m\u001b[0mvalue\u001b[0m\u001b[1;33m)\u001b[0m \u001b[1;32mfrom\u001b[0m \u001b[1;32mNone\u001b[0m\u001b[1;33m\u001b[0m\u001b[1;33m\u001b[0m\u001b[0m\n\u001b[0m\u001b[0;32m    356\u001b[0m         \u001b[1;32mreturn\u001b[0m \u001b[0mobj\u001b[0m\u001b[1;33m,\u001b[0m \u001b[0mend\u001b[0m\u001b[1;33m\u001b[0m\u001b[1;33m\u001b[0m\u001b[0m\n",
      "\u001b[1;31mJSONDecodeError\u001b[0m: Expecting value: line 1 column 1 (char 0)"
     ]
    }
   ],
   "source": [
    "headers = {'Content-Type' : 'application/json; charset=utf-8'}\n",
    "data = {\n",
    "    \"sender\" : \"DuHyeon_from\",\n",
    "    \"recipient\" : \"smart_contract\",\n",
    "    \"amount\" : 0,\n",
    "    \"smart_contract\" : {\"contract_code\":'print(\"Hello Smart - Contract\")'}\n",
    "}\n",
    "result = requests.post(\"http://localhost:5000/transactinos/new\", headers=headers, data=json.dumps(data)).content\n",
    "json.loads(result)"
   ]
  },
  {
   "cell_type": "markdown",
   "metadata": {},
   "source": [
    "## 호출 -1"
   ]
  },
  {
   "cell_type": "code",
   "execution_count": null,
   "metadata": {},
   "outputs": [],
   "source": [
    "headers = {'Content-Type' : 'application/json; charset=utf-8'}\n",
    "res = requests.get(\"http://localhost:5000/chain\", headers=headers)\n",
    "res_json = json.loads(res.content)\n"
   ]
  },
  {
   "cell_type": "code",
   "execution_count": null,
   "metadata": {},
   "outputs": [],
   "source": [
    "for _block in res_json['chain']:\n",
    "    for _tx in _block['transactions']:\n",
    "        if _tx['smart_contract']['contract_address'] == contract_address:\n",
    "            exec( _tx['smart_contract']['contract_code'])"
   ]
  },
  {
   "cell_type": "markdown",
   "metadata": {},
   "source": [
    "## NFT"
   ]
  },
  {
   "cell_type": "code",
   "execution_count": null,
   "metadata": {},
   "outputs": [],
   "source": [
    "headers = {'Content-Type' : 'application/json; charset=utf-8'}\n",
    "data = {\n",
    "    \"sender\" : \"DuHyeon_from\",\n",
    "    \"recipient\" : \"smart_contract\",\n",
    "    \"amount\" : 0,\n",
    "    \"smart_contract\" : {\"contract_code\":\"\"\" \n",
    "My_NFT = {'NFT_NAME' : 'DuHyeon_NFT',\n",
    "          'NFT_URL' : '원하는 경로의 이미지 넣기'}   \n",
    "        \"\"\"}\n",
    "}\n",
    "result = requests.post(\"http://localhost:5000/transactions/new\", headers=headers, data=json.dumps(data)).content\n",
    "contract_address = json.loads(result)['contract_address']\n",
    "\n",
    "#채굴을 통하여 거래내역을 블록에 저장한다.\n",
    "headers = {'Content-Type' : 'application/json; charset=utf-8'}\n",
    "res = requests.get(\"http://localhost:5000/mine\")\n",
    "print(res)"
   ]
  },
  {
   "cell_type": "code",
   "execution_count": null,
   "metadata": {},
   "outputs": [],
   "source": [
    "# 블록 정보 호출\n",
    "\n",
    "headers = {'Content-Type' : 'application/json; charset=utf-8'}\n",
    "res = requests.get(\"http://localhost:5000/chain\", headers=headers)\n",
    "\n",
    "# 스마트 컨트랙트를 호출 및 실행\n",
    "for _block in res_json['chain']:\n",
    "    for _tx in _block['transactions']:\n",
    "        if _tx['smart_contract']['contract_address'] == contract_address:\n",
    "            exec( _tx['smart_contract']['contract_code'])\n",
    "myNFT"
   ]
  }
 ],
 "metadata": {
  "kernelspec": {
   "display_name": "base",
   "language": "python",
   "name": "python3"
  },
  "language_info": {
   "codemirror_mode": {
    "name": "ipython",
    "version": 3
   },
   "file_extension": ".py",
   "mimetype": "text/x-python",
   "name": "python",
   "nbconvert_exporter": "python",
   "pygments_lexer": "ipython3",
   "version": "3.9.13"
  }
 },
 "nbformat": 4,
 "nbformat_minor": 2
}
