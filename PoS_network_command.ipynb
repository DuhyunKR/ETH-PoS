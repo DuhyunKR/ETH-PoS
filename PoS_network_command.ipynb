{
 "cells": [
  {
   "cell_type": "markdown",
   "metadata": {},
   "source": [
    "## 노드 운영"
   ]
  },
  {
   "cell_type": "code",
   "execution_count": null,
   "metadata": {},
   "outputs": [],
   "source": [
    "import requests\n",
    "import json\n",
    "import pandas as pd\n",
    "import hashlib\n",
    "import random\n"
   ]
  },
  {
   "cell_type": "markdown",
   "metadata": {},
   "source": [
    "## 노드 조회"
   ]
  },
  {
   "cell_type": "code",
   "execution_count": null,
   "metadata": {},
   "outputs": [],
   "source": [
    "#Net1 조회\n",
    "headers = {'Content-Type' : 'application/json; charset = utf-8'}\n",
    "res = requests.get(\"http://localhost:5000/chain\", headers=headers)\n",
    "json.loads(res.content)"
   ]
  },
  {
   "cell_type": "code",
   "execution_count": null,
   "metadata": {},
   "outputs": [],
   "source": [
    "#Net2 조회\n",
    "headers = {'Content-Type' : 'application/json; charset = utf-8'}\n",
    "res = requests.get(\"http://localhost:5001/chain\", headers=headers)\n",
    "json.loads(res.content)"
   ]
  },
  {
   "cell_type": "code",
   "execution_count": null,
   "metadata": {},
   "outputs": [],
   "source": [
    "#Net3 조회\n",
    "headers = {'Content-Type' : 'application/json; charset = utf-8'}\n",
    "res = requests.get(\"http://localhost:5002/chain\", headers=headers)\n",
    "json.loads(res.content)"
   ]
  },
  {
   "cell_type": "markdown",
   "metadata": {},
   "source": [
    "## 노드 등록하기"
   ]
  },
  {
   "cell_type": "code",
   "execution_count": null,
   "metadata": {},
   "outputs": [],
   "source": [
    "#Net2노드 - > Net1 등록하기\n",
    "headers = {'Content-Type' : 'application/json; charset=utf-8'}\n",
    "data = {\n",
    "    \"nodes\": 'http://localhost:5001'\n",
    "}\n",
    "requests.post(\"http://localhost:5000/nodes/register\", headers=headers, data=json.dumps(data)).content"
   ]
  },
  {
   "cell_type": "code",
   "execution_count": null,
   "metadata": {},
   "outputs": [],
   "source": [
    "#Net3노드 -> Net 1 등록하기\n",
    "headers = {'Content-Type' : 'application/json; charset = utf-8'}\n",
    "data = {\n",
    "    \"nodes\": 'http://localhost:5002'\n",
    "}\n",
    "requests.post(\"http://localhost:5000/nodes/register\", headers=headers, data=json.dumps(data)).content"
   ]
  },
  {
   "cell_type": "markdown",
   "metadata": {},
   "source": [
    "## py ETH 송금 후 2번과 3번 네트워크에 데이터 공유"
   ]
  },
  {
   "cell_type": "code",
   "execution_count": null,
   "metadata": {},
   "outputs": [],
   "source": [
    "headers = {'Content-Type' : 'application/json; charset=utf-8'}\n",
    "data = {\n",
    "    'sender' : \"test_from\",\n",
    "    'recipient': \"test_to\",\n",
    "    \"amount\" : 3,\n",
    "}\n",
    "requests.post(\"http://localhost:5000/transactions/new\", headers=headers, data=json.dumps(data)).content"
   ]
  },
  {
   "cell_type": "code",
   "execution_count": null,
   "metadata": {},
   "outputs": [],
   "source": [
    "#Net1 조회\n",
    "headers = {'Content-Type' : 'application/json; charset = utf-8'}\n",
    "res = requests.get(\"http://localhost:5000/chain\", headers=headers)\n",
    "json.loads(res.content)"
   ]
  },
  {
   "cell_type": "code",
   "execution_count": null,
   "metadata": {},
   "outputs": [],
   "source": [
    "#Net2 조회\n",
    "headers = {'Content-Type' : 'application/json; charset = utf-8'}\n",
    "res = requests.get(\"http://localhost:5001/chain\", headers=headers)\n",
    "json.loads(res.content)"
   ]
  },
  {
   "cell_type": "code",
   "execution_count": null,
   "metadata": {},
   "outputs": [],
   "source": [
    "#Net3 조회\n",
    "headers = {'Content-Type' : 'application/json; charset = utf-8'}\n",
    "res = requests.get(\"http://localhost:5002/chain\", headers=headers)\n",
    "json.loads(res.content)"
   ]
  },
  {
   "cell_type": "markdown",
   "metadata": {},
   "source": [
    "## 채굴 명령"
   ]
  },
  {
   "cell_type": "code",
   "execution_count": null,
   "metadata": {},
   "outputs": [],
   "source": [
    "headers = {'Content-Type' : 'application/json; charset=utf-8'}\n",
    "res = requests.get(\"http://localhost:5000/mine\")\n",
    "print(res)"
   ]
  },
  {
   "cell_type": "markdown",
   "metadata": {},
   "source": [
    "## transaction2 값 30"
   ]
  },
  {
   "cell_type": "code",
   "execution_count": null,
   "metadata": {},
   "outputs": [],
   "source": [
    "headers = {'Content-Type' : \"application/json; charset=utf-8\"}\n",
    "data = {\n",
    "    \"sender\" : \"test_from\",\n",
    "    \"recipient\": \"test_to02\",\n",
    "    \"amount\" : 30,\n",
    "}\n",
    "requests.post(\"http://localhost:5000/transactions/new\", headers=headers, data=json.dumps(data)).content"
   ]
  },
  {
   "cell_type": "markdown",
   "metadata": {},
   "source": [
    "## 채굴 2"
   ]
  },
  {
   "cell_type": "code",
   "execution_count": null,
   "metadata": {},
   "outputs": [],
   "source": [
    "headers = {'Content-Type' : 'application/json; charset=utf-8'}\n",
    "res = requests.get(\"http://localhost:5000/mine\")\n",
    "print(res)"
   ]
  },
  {
   "cell_type": "markdown",
   "metadata": {},
   "source": [
    "## transaction3 값 300"
   ]
  },
  {
   "cell_type": "code",
   "execution_count": null,
   "metadata": {},
   "outputs": [],
   "source": [
    "headers = {'Content-Type' : \"application/json; charset=utf-8\"}\n",
    "data = {\n",
    "    \"sender\" : \"test_from\",\n",
    "    \"recipient\": \"test_to03\",\n",
    "    \"amount\" : 300,\n",
    "}\n",
    "requests.post(\"http://localhost:5000/transactions/new\", headers=headers, data=json.dumps(data)).content"
   ]
  },
  {
   "cell_type": "markdown",
   "metadata": {},
   "source": [
    "## 채굴 3"
   ]
  },
  {
   "cell_type": "code",
   "execution_count": null,
   "metadata": {},
   "outputs": [],
   "source": [
    "headers = {'Content-Type' : 'application/json; charset=utf-8'}\n",
    "res = requests.get(\"http://localhost:5000/mine\")\n",
    "print(res)"
   ]
  },
  {
   "cell_type": "markdown",
   "metadata": {},
   "source": [
    "## transaction4"
   ]
  },
  {
   "cell_type": "code",
   "execution_count": null,
   "metadata": {},
   "outputs": [],
   "source": [
    "headers = {'Content-Type' : \"application/json; charset=utf-8\"}\n",
    "data = {\n",
    "    \"sender\" : \"test_from\",\n",
    "    \"recipient\": \"test_to04\",\n",
    "    \"amount\" : 300,\n",
    "}\n",
    "requests.post(\"http://localhost:5000/transactions/new\", headers=headers, data=json.dumps(data)).content"
   ]
  },
  {
   "cell_type": "markdown",
   "metadata": {},
   "source": [
    "## 채굴 4"
   ]
  },
  {
   "cell_type": "code",
   "execution_count": null,
   "metadata": {},
   "outputs": [],
   "source": [
    "headers = {'Content-Type' : 'application/json; charset=utf-8'}\n",
    "res = requests.get(\"http://localhost:5000/mine\")\n",
    "print(res)"
   ]
  },
  {
   "cell_type": "markdown",
   "metadata": {},
   "source": [
    "## transaction5"
   ]
  },
  {
   "cell_type": "code",
   "execution_count": null,
   "metadata": {},
   "outputs": [],
   "source": [
    "headers = {'Content-Type' : \"application/json; charset=utf-8\"}\n",
    "data = {\n",
    "    \"sender\" : \"test_from\",\n",
    "    \"recipient\": \"test_to02\",\n",
    "    \"amount\" : 30,\n",
    "}\n",
    "requests.post(\"http://localhost:5000/transactions/new\", headers=headers, data=json.dumps(data)).content"
   ]
  },
  {
   "cell_type": "markdown",
   "metadata": {},
   "source": [
    "## 채굴 5"
   ]
  },
  {
   "cell_type": "code",
   "execution_count": null,
   "metadata": {},
   "outputs": [],
   "source": [
    "headers = {'Content-Type' : 'application/json; charset=utf-8'}\n",
    "res = requests.get(\"http://localhost:5000/mine\")\n",
    "print(res)"
   ]
  },
  {
   "cell_type": "markdown",
   "metadata": {},
   "source": [
    "## transaction 6"
   ]
  },
  {
   "cell_type": "code",
   "execution_count": null,
   "metadata": {},
   "outputs": [],
   "source": [
    "headers = {'Content-Type' : \"application/json; charset=utf-8\"}\n",
    "data = {\n",
    "    \"sender\" : \"test_from\",\n",
    "    \"recipient\": \"test_to03\",\n",
    "    \"amount\" : 300,\n",
    "}\n",
    "requests.post(\"http://localhost:5000/transactions/new\", headers=headers, data=json.dumps(data)).content"
   ]
  },
  {
   "cell_type": "markdown",
   "metadata": {},
   "source": [
    "## 채굴 6"
   ]
  },
  {
   "cell_type": "code",
   "execution_count": null,
   "metadata": {},
   "outputs": [],
   "source": [
    "headers = {'Content-Type' : 'application/json; charset=utf-8'}\n",
    "res = requests.get(\"http://localhost:5000/mine\")\n",
    "print(res)"
   ]
  },
  {
   "cell_type": "markdown",
   "metadata": {},
   "source": [
    "## transaction 7"
   ]
  },
  {
   "cell_type": "code",
   "execution_count": null,
   "metadata": {},
   "outputs": [],
   "source": [
    "headers = {'Content-Type' : \"application/json; charset=utf-8\"}\n",
    "data = {\n",
    "    \"sender\" : \"test_from\",\n",
    "    \"recipient\": \"test_to04\",\n",
    "    \"amount\" : 300,\n",
    "}\n",
    "requests.post(\"http://localhost:5000/transactions/new\", headers=headers, data=json.dumps(data)).content"
   ]
  },
  {
   "cell_type": "markdown",
   "metadata": {},
   "source": [
    "## 채굴 7"
   ]
  },
  {
   "cell_type": "code",
   "execution_count": null,
   "metadata": {},
   "outputs": [],
   "source": [
    "headers = {'Content-Type' : 'application/json; charset=utf-8'}\n",
    "res = requests.get(\"http://localhost:5000/mine\")\n",
    "print(res)"
   ]
  },
  {
   "cell_type": "markdown",
   "metadata": {},
   "source": [
    "## 노드의 채굴 결과 검증자로 선정된 횟수"
   ]
  },
  {
   "cell_type": "code",
   "execution_count": null,
   "metadata": {},
   "outputs": [],
   "source": [
    "# 노드의 블록정보 확인\n",
    "headers = {'Content-Type' : 'application/json; charset=utf-8'}\n",
    "res = requests.get(\"http://localhost:5000/chain\", headers=headers)\n",
    "final_result = json.loads(res.content)\n",
    "final_result"
   ]
  },
  {
   "cell_type": "code",
   "execution_count": null,
   "metadata": {},
   "outputs": [],
   "source": [
    "# 노드의 블록정보 확인\n",
    "headers = {'Content-Type' : 'application/json; charset=utf-8'}\n",
    "res = requests.get(\"http://localhost:5000/chain\", headers=headers)\n",
    "final_result = json.loads(res.content)\n",
    "final_result\n"
   ]
  },
  {
   "cell_type": "code",
   "execution_count": null,
   "metadata": {},
   "outputs": [],
   "source": [
    "status_json = json.loads(res.text)\n",
    "status_json['chain']    \n",
    "tx_amount_l = []\n",
    "tx_sender_l = []\n",
    "tx_reciv_l  = []\n",
    "tx_time_l   = []\n",
    "validator_l = []\n",
    "\n",
    "for chain_index in range(len(status_json['chain'])):\n",
    "    chain_tx = status_json['chain'][chain_index]['transactions']\n",
    "    for each_tx in range(len(chain_tx)):\n",
    "        tx_amount_l.append(chain_tx[each_tx]['amount'])\n",
    "        tx_sender_l.append(chain_tx[each_tx]['sender'])\n",
    "        tx_reciv_l.append(chain_tx[each_tx]['recipient'])\n",
    "        tx_time_l.append(chain_tx[each_tx]['timestamp'])\n",
    "        validator_l.append(status_json['chain'][chain_index]['validator'])\n"
   ]
  },
  {
   "cell_type": "code",
   "execution_count": null,
   "metadata": {},
   "outputs": [],
   "source": [
    "\n",
    "df_tx = pd.DataFrame()\n",
    "df_tx['timestamp'] = tx_time_l  \n",
    "df_tx['validator'] = validator_l\n",
    "df_tx['sender'] = tx_sender_l \n",
    "df_tx['recipient'] = tx_reciv_l\n",
    "df_tx['amount'] = tx_amount_l   \n",
    "df_tx"
   ]
  },
  {
   "cell_type": "code",
   "execution_count": null,
   "metadata": {},
   "outputs": [],
   "source": [
    "#최종결론\n",
    "df_tx.groupby('validator')['timestamp'].count()"
   ]
  }
 ],
 "metadata": {
  "kernelspec": {
   "display_name": "base",
   "language": "python",
   "name": "python3"
  },
  "language_info": {
   "codemirror_mode": {
    "name": "ipython",
    "version": 3
   },
   "file_extension": ".py",
   "mimetype": "text/x-python",
   "name": "python",
   "nbconvert_exporter": "python",
   "pygments_lexer": "ipython3",
   "version": "3.9.13"
  }
 },
 "nbformat": 4,
 "nbformat_minor": 2
}
